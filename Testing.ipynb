{
 "cells": [
  {
   "cell_type": "code",
   "execution_count": 2,
   "metadata": {},
   "outputs": [],
   "source": [
    "import functions as f \n",
    "from cassie import CassieEnv    "
   ]
  },
  {
   "cell_type": "code",
   "execution_count": 3,
   "metadata": {},
   "outputs": [],
   "source": [
    "cassie = CassieEnv({})"
   ]
  },
  {
   "cell_type": "code",
   "execution_count": 7,
   "metadata": {},
   "outputs": [
    {
     "data": {
      "text/plain": [
       "(array([ 0.47231714,  0.56557118,  0.42189057,  0.90051208,  1.06702649,\n",
       "         0.50119997, -0.40663524,  1.26861326,  0.68499802,  0.64512095,\n",
       "         0.40938984,  1.1840316 ,  1.11943759,  0.50018758, -0.4079009 ,\n",
       "         1.26966148,  0.43647824,  0.51289073,  0.48691393,  0.99737547,\n",
       "        -0.03536067,  0.06254214, -0.00895948,  0.58778525,  0.80901699]),\n",
       " 0.5609430084667928,\n",
       " False,\n",
       " False,\n",
       " {})"
      ]
     },
     "execution_count": 7,
     "metadata": {},
     "output_type": "execute_result"
    }
   ],
   "source": [
    "cassie.step(cassie.action_space.sample())"
   ]
  },
  {
   "cell_type": "code",
   "execution_count": 8,
   "metadata": {},
   "outputs": [
    {
     "data": {
      "text/plain": [
       "array([ 2.71189273e+00,  2.95070325e+00,  4.84577434e+00, -1.70029272e+01,\n",
       "       -2.26270865e+01,  4.79986140e-02,  1.20377162e+00, -4.52541731e-01,\n",
       "        3.18742576e+00,  6.53044291e+00,  3.22067883e+00, -1.36279867e+01,\n",
       "       -1.68618653e+01,  7.50327785e-03,  1.05189241e+00, -3.37237306e-01,\n",
       "        9.97375472e-01, -3.53606678e-02,  6.25421375e-02, -8.95948346e-03,\n",
       "       -4.43381864e+00,  8.99772863e-01, -9.13407397e-01,  1.96766516e+01,\n",
       "       -2.77115100e+01,  5.77781549e+00,  1.11475008e-02, -4.98669351e-01,\n",
       "       -3.47075175e-02])"
      ]
     },
     "execution_count": 8,
     "metadata": {},
     "output_type": "execute_result"
    }
   ],
   "source": [
    "cassie.data.sensordata"
   ]
  },
  {
   "cell_type": "code",
   "execution_count": 17,
   "metadata": {},
   "outputs": [],
   "source": [
    "valid_names = ['left-foot-input', 'left-foot-output', 'left-hip-pitch-input', 'left-hip-roll-input', 'left-hip-yaw-input', 'left-knee-input', 'left-shin-output', 'left-tarsus-output', 'pelvis-angular-velocity', 'pelvis-linear-acceleration', 'pelvis-magnetometer', 'pelvis-orientation', 'right-foot-input', 'right-foot-output', 'right-hip-pitch-input', 'right-hip-roll-input', 'right-hip-yaw-input', 'right-knee-input', 'right-shin-output', 'right-tarsus-output']\n"
   ]
  },
  {
   "cell_type": "code",
   "execution_count": 19,
   "metadata": {},
   "outputs": [],
   "source": [
    "temp = []\n",
    "for key in valid_names:\n",
    "   temp.append(cassie.data.sensor(key).data)"
   ]
  },
  {
   "cell_type": "code",
   "execution_count": 20,
   "metadata": {},
   "outputs": [
    {
     "name": "stdout",
     "output_type": "stream",
     "text": [
      "[-2.26270865e+01 -4.52541731e-01  4.84577434e+00  2.71189273e+00\n",
      "  2.95070325e+00 -1.70029272e+01  4.79986140e-02  1.20377162e+00\n",
      " -4.43381864e+00  8.99772863e-01 -9.13407397e-01  1.96766516e+01\n",
      " -2.77115100e+01  5.77781549e+00  1.11475008e-02 -4.98669351e-01\n",
      " -3.47075175e-02  9.97375472e-01 -3.53606678e-02  6.25421375e-02\n",
      " -8.95948346e-03 -1.68618653e+01 -3.37237306e-01  3.22067883e+00\n",
      "  3.18742576e+00  6.53044291e+00 -1.36279867e+01  7.50327785e-03\n",
      "  1.05189241e+00]\n"
     ]
    }
   ],
   "source": [
    "import numpy as np \n",
    "print(np.concatenate(temp))"
   ]
  }
 ],
 "metadata": {
  "kernelspec": {
   "display_name": "cassie",
   "language": "python",
   "name": "python3"
  },
  "language_info": {
   "codemirror_mode": {
    "name": "ipython",
    "version": 3
   },
   "file_extension": ".py",
   "mimetype": "text/x-python",
   "name": "python",
   "nbconvert_exporter": "python",
   "pygments_lexer": "ipython3",
   "version": "3.8.16"
  },
  "orig_nbformat": 4
 },
 "nbformat": 4,
 "nbformat_minor": 2
}
